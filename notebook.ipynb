{
 "cells": [
  {
   "cell_type": "markdown",
   "metadata": {},
   "source": [
    "# MovieLens Recommendation with neural networks"
   ]
  },
  {
   "cell_type": "markdown",
   "metadata": {},
   "source": [
    "## Постановка"
   ]
  },
  {
   "cell_type": "markdown",
   "metadata": {},
   "source": [
    "**Задача**: на полном датасете [Movielens](https://grouplens.org/datasets/movielens/latest/) выучить векторные представления для пользователей и фильмов, чтобы можно было по вектору пользователя искать похожие представления фильмов и рекомендовать их ему."
   ]
  },
  {
   "cell_type": "code",
   "execution_count": 1,
   "metadata": {
    "execution": {
     "iopub.execute_input": "2023-05-10T14:49:06.577260Z",
     "iopub.status.busy": "2023-05-10T14:49:06.576216Z",
     "iopub.status.idle": "2023-05-10T14:49:06.907597Z",
     "shell.execute_reply": "2023-05-10T14:49:06.906512Z",
     "shell.execute_reply.started": "2023-05-10T14:49:06.577228Z"
    },
    "tags": []
   },
   "outputs": [],
   "source": [
    "import os\n",
    "import random\n",
    "\n",
    "\n",
    "import pandas as pd\n",
    "import numpy as np\n",
    "import scipy as sp\n",
    "import matplotlib.pyplot as plt\n",
    "import seaborn as sns\n",
    "\n",
    "from sklearn.model_selection import train_test_split\n",
    "\n",
    "import torch\n",
    "import torch.nn as nn\n",
    "import torch.nn.functional as F\n",
    "from torch.utils.data import Dataset, DataLoader"
   ]
  },
  {
   "cell_type": "code",
   "execution_count": 2,
   "metadata": {
    "execution": {
     "iopub.execute_input": "2023-05-10T19:30:30.255964Z",
     "iopub.status.busy": "2023-05-10T19:30:30.255447Z",
     "iopub.status.idle": "2023-05-10T19:30:30.261520Z",
     "shell.execute_reply": "2023-05-10T19:30:30.260295Z",
     "shell.execute_reply.started": "2023-05-10T19:30:30.255929Z"
    }
   },
   "outputs": [
    {
     "data": {
      "text/plain": [
       "'2.0.1'"
      ]
     },
     "execution_count": 2,
     "metadata": {},
     "output_type": "execute_result"
    }
   ],
   "source": [
    "torch.__version__"
   ]
  },
  {
   "cell_type": "code",
   "execution_count": 3,
   "metadata": {
    "execution": {
     "iopub.execute_input": "2023-05-10T14:49:09.456528Z",
     "iopub.status.busy": "2023-05-10T14:49:09.455672Z",
     "iopub.status.idle": "2023-05-10T14:49:09.460784Z",
     "shell.execute_reply": "2023-05-10T14:49:09.460076Z",
     "shell.execute_reply.started": "2023-05-10T14:49:09.456492Z"
    },
    "tags": []
   },
   "outputs": [],
   "source": [
    "# trying to access env variables in cloud is pain\n",
    "RANDOM_SEED=42\n",
    "DATA_DIR=\"data/ml-latest\"\n",
    "OUTPUT_DIR=\"output\"\n",
    "MODEL_DIR=\"output/model\""
   ]
  },
  {
   "cell_type": "code",
   "execution_count": 4,
   "metadata": {
    "execution": {
     "iopub.execute_input": "2023-05-10T14:49:09.950398Z",
     "iopub.status.busy": "2023-05-10T14:49:09.949366Z",
     "iopub.status.idle": "2023-05-10T14:49:09.955727Z",
     "shell.execute_reply": "2023-05-10T14:49:09.955123Z",
     "shell.execute_reply.started": "2023-05-10T14:49:09.950366Z"
    },
    "tags": []
   },
   "outputs": [],
   "source": [
    "random.seed(RANDOM_SEED)\n",
    "np.random.seed(RANDOM_SEED)\n",
    "torch.manual_seed(RANDOM_SEED);"
   ]
  },
  {
   "cell_type": "markdown",
   "metadata": {},
   "source": [
    "## EDA"
   ]
  },
  {
   "cell_type": "code",
   "execution_count": 7,
   "metadata": {},
   "outputs": [
    {
     "name": "stdout",
     "output_type": "stream",
     "text": [
      "README.txt\t   genome-tags.csv  movies.csv\t tags.csv\n",
      "genome-scores.csv  links.csv\t    ratings.csv\n"
     ]
    }
   ],
   "source": [
    "!ls data/raw/ml-latest"
   ]
  },
  {
   "cell_type": "markdown",
   "metadata": {},
   "source": [
    "### Структура датасета\n",
    "\n",
    "Датасет разделен на несколько содержательных таблиц\n",
    "\n",
    "1. movies.csv - movieId,title,genres - список фильмов с присвоенными им жанрами\n",
    "2. ratings.csv -  userId,movieId,rating,timestamp - список оценок, которые пользователи ставили фильмам\n",
    "3. tags.csv - userId,movieId,tag,timestamp - список, пользовательских тегов, выставляемых фильмам\n",
    "4. genome-scores.csv - содержит оценки релевантности пользовательских тегов\n",
    "5. genome-tags.csv - tagId, tag - содрежит текстовые описания тегов\n",
    "\n",
    "Из содеражния понятно, что таблица ratings.csv является основной, описывающей пользовательские взаимодействия. Остальные таблицы предоставляют сопровождающие мета-данные.\n",
    "Рассмотрим распределения значений некоторых взаимодействий и данных."
   ]
  },
  {
   "cell_type": "code",
   "execution_count": 12,
   "metadata": {},
   "outputs": [],
   "source": [
    "movies_df = pd.read_csv(DATA_DIR + '/movies.csv')"
   ]
  },
  {
   "cell_type": "code",
   "execution_count": 14,
   "metadata": {},
   "outputs": [
    {
     "data": {
      "text/html": [
       "<div>\n",
       "<style scoped>\n",
       "    .dataframe tbody tr th:only-of-type {\n",
       "        vertical-align: middle;\n",
       "    }\n",
       "\n",
       "    .dataframe tbody tr th {\n",
       "        vertical-align: top;\n",
       "    }\n",
       "\n",
       "    .dataframe thead th {\n",
       "        text-align: right;\n",
       "    }\n",
       "</style>\n",
       "<table border=\"1\" class=\"dataframe\">\n",
       "  <thead>\n",
       "    <tr style=\"text-align: right;\">\n",
       "      <th></th>\n",
       "      <th>movieId</th>\n",
       "      <th>title</th>\n",
       "      <th>genres</th>\n",
       "    </tr>\n",
       "  </thead>\n",
       "  <tbody>\n",
       "    <tr>\n",
       "      <th>0</th>\n",
       "      <td>1</td>\n",
       "      <td>Toy Story (1995)</td>\n",
       "      <td>Adventure|Animation|Children|Comedy|Fantasy</td>\n",
       "    </tr>\n",
       "    <tr>\n",
       "      <th>1</th>\n",
       "      <td>2</td>\n",
       "      <td>Jumanji (1995)</td>\n",
       "      <td>Adventure|Children|Fantasy</td>\n",
       "    </tr>\n",
       "    <tr>\n",
       "      <th>2</th>\n",
       "      <td>3</td>\n",
       "      <td>Grumpier Old Men (1995)</td>\n",
       "      <td>Comedy|Romance</td>\n",
       "    </tr>\n",
       "    <tr>\n",
       "      <th>3</th>\n",
       "      <td>4</td>\n",
       "      <td>Waiting to Exhale (1995)</td>\n",
       "      <td>Comedy|Drama|Romance</td>\n",
       "    </tr>\n",
       "    <tr>\n",
       "      <th>4</th>\n",
       "      <td>5</td>\n",
       "      <td>Father of the Bride Part II (1995)</td>\n",
       "      <td>Comedy</td>\n",
       "    </tr>\n",
       "  </tbody>\n",
       "</table>\n",
       "</div>"
      ],
      "text/plain": [
       "   movieId                               title  \\\n",
       "0        1                    Toy Story (1995)   \n",
       "1        2                      Jumanji (1995)   \n",
       "2        3             Grumpier Old Men (1995)   \n",
       "3        4            Waiting to Exhale (1995)   \n",
       "4        5  Father of the Bride Part II (1995)   \n",
       "\n",
       "                                        genres  \n",
       "0  Adventure|Animation|Children|Comedy|Fantasy  \n",
       "1                   Adventure|Children|Fantasy  \n",
       "2                               Comedy|Romance  \n",
       "3                         Comedy|Drama|Romance  \n",
       "4                                       Comedy  "
      ]
     },
     "execution_count": 14,
     "metadata": {},
     "output_type": "execute_result"
    }
   ],
   "source": [
    "movies_df.head()"
   ]
  },
  {
   "cell_type": "code",
   "execution_count": 60,
   "metadata": {},
   "outputs": [],
   "source": [
    "# count all genres met\n",
    "from collections import Counter\n",
    "from itertools import chain\n",
    "\n",
    "total_genres_list = list(chain(*[g_list.split('|') for g_list in movies_df['genres']]))\n",
    "most_common_genres = Counter(total_genres_list).most_common()\n",
    "genres, counts = list(zip(*most_common_genres))"
   ]
  },
  {
   "cell_type": "code",
   "execution_count": 63,
   "metadata": {},
   "outputs": [
    {
     "data": {
      "image/png": "[encoded data removed]",
      "text/plain": [
       "<Figure size 1500x700 with 1 Axes>"
      ]
     },
     "metadata": {},
     "output_type": "display_data"
    }
   ],
   "source": [
    "plt.figure(figsize=(15, 7))\n",
    "plt.title(\"Самые часто встречаемые жанры\")\n",
    "plt.ylabel('Кол-во фильмов с жанром')\n",
    "plt.bar(genres, counts)\n",
    "plt.xticks(rotation='vertical')\n",
    "plt.show()"
   ]
  },
  {
   "cell_type": "markdown",
   "metadata": {},
   "source": [
    "Как видно из распределения, есть определенный баес в сторону небольшой группы жанров, что может повлиять на окончательный результат на полученных представлениях, которые могут получиться хуже и нерезпрезентативными на менее популярных жанрах, таких как IMAX, Film-Noir и т.п. "
   ]
  },
  {
   "cell_type": "code",
   "execution_count": 10,
   "metadata": {
    "execution": {
     "iopub.execute_input": "2023-05-08T15:10:17.558139Z",
     "iopub.status.busy": "2023-05-08T15:10:17.557744Z",
     "iopub.status.idle": "2023-05-08T15:10:17.564547Z",
     "shell.execute_reply": "2023-05-08T15:10:17.563915Z",
     "shell.execute_reply.started": "2023-05-08T15:10:17.558108Z"
    }
   },
   "outputs": [],
   "source": [
    "# для удобства работы с данными заведем обертку для обраотки больших датасетов\n",
    "def process_in_chunks(proc_func, merge_func, csv_file, chunksize=50_000):\n",
    "    results = []\n",
    "    for chunk in pd.read_csv(csv_file, chunksize=chunksize):\n",
    "        results.append(proc_func(chunk))\n",
    "    return merge_func(results)"
   ]
  },
  {
   "cell_type": "code",
   "execution_count": 15,
   "metadata": {
    "execution": {
     "iopub.execute_input": "2023-05-08T15:20:09.856076Z",
     "iopub.status.busy": "2023-05-08T15:20:09.855557Z",
     "iopub.status.idle": "2023-05-08T15:20:32.383449Z",
     "shell.execute_reply": "2023-05-08T15:20:32.382306Z",
     "shell.execute_reply.started": "2023-05-08T15:20:09.856047Z"
    }
   },
   "outputs": [
    {
     "data": {
      "text/plain": [
       "Counter({3.5: 3404360,\n",
       "         1.5: 441354,\n",
       "         4.5: 2373550,\n",
       "         2.5: 1373419,\n",
       "         4.0: 7394710,\n",
       "         3.0: 5515668,\n",
       "         2.0: 1850627,\n",
       "         5.0: 4071135,\n",
       "         1.0: 886233,\n",
       "         0.5: 442388})"
      ]
     },
     "execution_count": 15,
     "metadata": {},
     "output_type": "execute_result"
    }
   ],
   "source": [
    "from collections import Counter\n",
    "\n",
    "def count_ratings(chunk):\n",
    "    return Counter(chunk['rating'])\n",
    "\n",
    "\n",
    "def merge_ratings(rating_counts):\n",
    "    return sum(rating_counts, Counter())\n",
    "\n",
    "\n",
    "rating_counts = process_in_chunks(\n",
    "    count_ratings,\n",
    "    merge_ratings,\n",
    "    DATA_DIR + \"/ratings.csv\"\n",
    ")"
   ]
  },
  {
   "cell_type": "code",
   "execution_count": 34,
   "metadata": {
    "execution": {
     "iopub.execute_input": "2023-05-08T15:28:41.442450Z",
     "iopub.status.busy": "2023-05-08T15:28:41.441734Z",
     "iopub.status.idle": "2023-05-08T15:28:41.750122Z",
     "shell.execute_reply": "2023-05-08T15:28:41.749535Z",
     "shell.execute_reply.started": "2023-05-08T15:28:41.442414Z"
    }
   },
   "outputs": [
    {
     "data": {
      "image/png": "[encoded data removed]",
      "text/plain": [
       "<Figure size 1200x500 with 1 Axes>"
      ]
     },
     "metadata": {},
     "output_type": "display_data"
    }
   ],
   "source": [
    "plt.figure(figsize=(12, 5))\n",
    "labels, counts = list(zip(*[(v, rating_counts[v] ) for v in sorted(rating_counts.keys())]))\n",
    "plt.title(\"Распределение оценок\")\n",
    "plt.bar([str(l) for l in labels], counts, align='center', width=0.4)\n",
    "plt.show()"
   ]
  },
  {
   "cell_type": "markdown",
   "metadata": {},
   "source": [
    "Как видим распределение оценок смещено вправо к самой нейтральной оценке 4, что ожидаемо с точки зрения человеческой реакции. Также можно видеть, что фильмам редко ставят низкие оценки, гораздо реже, чем крайне положительные. Это объясняется тем, что чем более низкий рейтинг, тем меньше людей рискнет его посмотреть, поэтому такие фильмы должны быть в среднем менее популярны (а учитывая, что люди часто ориентируются на топы, это различие только усиливается со временем). \n",
    "\n",
    "К сожалению, у нас нет какого-то implicit фидбека вроде просмотров, поэтому проверить это наверняка не получится, но это наиболее простое объяснение."
   ]
  },
  {
   "cell_type": "code",
   "execution_count": 46,
   "metadata": {
    "execution": {
     "iopub.execute_input": "2023-05-08T17:29:50.333619Z",
     "iopub.status.busy": "2023-05-08T17:29:50.333267Z",
     "iopub.status.idle": "2023-05-08T17:30:35.248287Z",
     "shell.execute_reply": "2023-05-08T17:30:35.246943Z",
     "shell.execute_reply.started": "2023-05-08T17:29:50.333593Z"
    }
   },
   "outputs": [
    {
     "data": {
      "image/png": "[encoded data removed]",
      "text/plain": [
       "<Figure size 1200x500 with 1 Axes>"
      ]
     },
     "metadata": {},
     "output_type": "display_data"
    }
   ],
   "source": [
    "def count_movie_interactions(chunk):\n",
    "    return Counter(chunk['movieId'])\n",
    "\n",
    "\n",
    "def merge_counts(movie_counts):\n",
    "    return sum(movie_counts, Counter())\n",
    "\n",
    "\n",
    "movie_counts = process_in_chunks(\n",
    "    count_movie_interactions,\n",
    "    merge_counts,\n",
    "    DATA_DIR + \"/ratings.csv\"\n",
    ")\n",
    "\n",
    "plt.figure(figsize=(12, 5))\n",
    "_, counts = list(zip(*movie_counts.most_common()))\n",
    "plt.title(\"Распределение 'популярности' фильмов\")\n",
    "plt.plot(counts)\n",
    "plt.show()"
   ]
  },
  {
   "cell_type": "markdown",
   "metadata": {},
   "source": [
    "Как видно из графика, пользователи активно взаимодействуют с очень небольшой долей фильмов."
   ]
  },
  {
   "cell_type": "code",
   "execution_count": 39,
   "metadata": {
    "execution": {
     "iopub.execute_input": "2023-05-08T15:41:21.758773Z",
     "iopub.status.busy": "2023-05-08T15:41:21.758087Z",
     "iopub.status.idle": "2023-05-08T15:41:46.854093Z",
     "shell.execute_reply": "2023-05-08T15:41:46.853353Z",
     "shell.execute_reply.started": "2023-05-08T15:41:21.758746Z"
    }
   },
   "outputs": [
    {
     "name": "stdout",
     "output_type": "stream",
     "text": [
      "NaN count in data/ml-latest/ratings.csv\n",
      "userId       0\n",
      "movieId      0\n",
      "rating       0\n",
      "timestamp    0\n",
      "dtype: int64\n",
      "NaN count in data/ml-latest/tags.csv\n",
      "userId        0\n",
      "movieId       0\n",
      "tag          16\n",
      "timestamp     0\n",
      "dtype: int64\n",
      "NaN count in data/ml-latest/links.csv\n",
      "movieId      0\n",
      "imdbId       0\n",
      "tmdbId     181\n",
      "dtype: int64\n",
      "NaN count in data/ml-latest/movies.csv\n",
      "movieId    0\n",
      "title      0\n",
      "genres     0\n",
      "dtype: int64\n",
      "NaN count in data/ml-latest/genome-tags.csv\n",
      "tagId    0\n",
      "tag      0\n",
      "dtype: int64\n",
      "NaN count in data/ml-latest/genome-scores.csv\n",
      "movieId      0\n",
      "tagId        0\n",
      "relevance    0\n",
      "dtype: int64\n"
     ]
    }
   ],
   "source": [
    "# на всякий случай устроим контрольную проверку на пропуски во всех табличках (даже если не все будем использовать)\n",
    "import glob\n",
    "\n",
    "ds_files = glob.glob(DATA_DIR + \"/*.csv\")\n",
    "\n",
    "def count_nans(chunk):\n",
    "    return chunk.isna().sum() \n",
    "\n",
    "\n",
    "def merge_counts(nan_counts):\n",
    "    return sum(nan_counts)\n",
    "\n",
    "\n",
    "for f in ds_files:\n",
    "    nan_count = process_in_chunks(count_nans, merge_counts, f)\n",
    "    print(f'NaN count in {f}\\n{nan_count}')\n",
    "    "
   ]
  },
  {
   "attachments": {},
   "cell_type": "markdown",
   "metadata": {},
   "source": [
    "В данных есть пропуски (не указаны ссылки на внешние ресурсы и иногда нет пользовательских тегов), но они несущественные для датасета такого размера, так что можно просто проигнорировать."
   ]
  },
  {
   "cell_type": "markdown",
   "metadata": {},
   "source": [
    "## Предобработка данных"
   ]
  },
  {
   "cell_type": "markdown",
   "metadata": {},
   "source": [
    "Теперь, когда мы представляем устройство данных. Подготовим нужное для дальнейшей работы.\n",
    "\n",
    "1. Из ratings.csv извлечем информацию о взаимодействиях пользователей и фильмов\n",
    "2. Сложим все мета-данные по фильмам в одну таблицу (потом еще с ними будем работать)\n",
    "3. Не будем учитывать неактивных пользователей и фильмов - их вклад в информационное наполнение значительно меньше, от него можно избавиться\n",
    "\n",
    "По пользователям особо нет мета-данных, кроме времени активности (timestamp у каждого взаимодействия), которое можно использовать для обуславливания на различные паттерны вроде времени суток, дней недели и т.п. Возможно, если останется время для улучешний, вернемся к этим данным (как я понял, на практике именно время дает существенный прирост качества)."
   ]
  },
  {
   "cell_type": "code",
   "execution_count": null,
   "metadata": {},
   "outputs": [],
   "source": [
    "def preprocess_data(ratings_df, user_thresh=0.1, movie_thresh):\n",
    "    user_ids = ratings_df.groupby\n",
    "    \n",
    "\n",
    "\n",
    "class UserItemRatingsDataset(Dataset):\n",
    "    def __init__(self):\n",
    "        self.num_of_users = 0\n",
    "        self.num_of_items = 0\n",
    "        \n",
    "    \n",
    "    def __getitem__(self, idx):\n",
    "        u_idx = self.idx // self.num_of_users\n",
    "        i_idx = self.idx % self.num_of_users\n",
    "        return (torch.tensor([self.user_ids[u_idx]]), torch.tensor([self.item_ids[i_idx]]), self.ratings[idx]\n",
    "    \n",
    "    def __len__(self):\n",
    "        reutrn len(self.ratings)"
   ]
  },
  {
   "cell_type": "markdown",
   "metadata": {},
   "source": [
    "## Валидация и выборка"
   ]
  },
  {
   "cell_type": "markdown",
   "metadata": {
    "execution": {
     "iopub.execute_input": "2023-05-08T16:04:29.493245Z",
     "iopub.status.busy": "2023-05-08T16:04:29.492675Z",
     "iopub.status.idle": "2023-05-08T16:04:29.507151Z",
     "shell.execute_reply": "2023-05-08T16:04:29.506138Z",
     "shell.execute_reply.started": "2023-05-08T16:04:29.493213Z"
    }
   },
   "source": [
    "Используем train/val/test сплит. При сплите гарантируем, что пользователь есть во всех сплитах. На метрики при обучени будем смотреть на train/val, итоговое качество определим на отложенной выборке test."
   ]
  },
  {
   "cell_type": "code",
   "execution_count": null,
   "metadata": {},
   "outputs": [],
   "source": []
  },
  {
   "cell_type": "markdown",
   "metadata": {},
   "source": [
    "Каким образом оценивать \"хорошесть\" полученных векторов? Из всего материала, что я прочитал, примерный самый адекватный подход\n",
    "- обучить модель векторизации на какую-то прокси метрику\n",
    "- полученные представления передать ранжирующей модели и посмотреть, как измениться качество с точки зрения целевых метрик (а ранжирующие метрики - самые информативные).\n",
    "\n",
    "В качестве прокси-метрики удобно использовать **MSE**/**RMSE** при обучении модели предсказывать оценку пользователя фильму. Но это только прокси-метрика, она не дает представления, насколько хороши полученные векторы.\n",
    "\n",
    "С одной стороны, MoviLens датасет не предоставляет разметки данных, позволяющих определить относительную меру релевантности для конкретных предсказаний. Если следовать этой логике, хорошесть векторов можно оценивать только в совокупности, неплохие метрики для этого - Recall@k, Precision@k и их усредненние для всех предсказаний: MAR@K, MAP@k. Считать их можно просто с точки зрения\n",
    "того, ставил им пользователь оценку или нет.\n",
    "\n",
    "$$\n",
    "Precition(k) = \\frac{|\\{ relevant ~ movies \\} \\cap \\{ recommended ~ k ~ movies \\} |}{|\\{ recommended ~ k ~ movies \\}|}\n",
    "\\\\ Recall(k) = \\frac{|\\{ relevant ~ movies \\} \\cap \\{ recommended ~ k ~ movies \\} |}{\\{ relevant ~ movies \\}}\n",
    "$$\n",
    "\n",
    "\n",
    "С другой стороны, такая мера релевантности есть - это оценка пользователя фильма. Поэтому было классно ориентироваться на метрику, которая приоритизирует фильмы с позитивной оценкой перед негативными.\n",
    "Интуиция такая: если пользователь посмотрел и поставил положительную оценку, это всегда лучше, чем если он посмотрел и поставил негативную или вовсе не посмотрел (мы же хотим рекомендовать те фильмы, которые ему нравятся, а не любые, но это вопрос дискуссионный, надо смотреть на бизнес-метрики :)).\n",
    "\n",
    "С этой точки зрения можно смотреть на метрику nDCG@k, учитывающую нормализованное суммарное накопление рейтингов пользователя со штрафом за порядок.\n",
    "\n",
    "$$\n",
    "NCDG(k) = \\frac{DCG(k)}{IDCG(k)} \\\\ DCG(k)  = \\sum^{k}_{i=1} \\frac{G_i}{log_2(i + 1)} \\\\ IDCG(k)  = \\sum^{|I(k)|}_{i=1} \\frac{G_i}{log_2(i + 1)} \n",
    "$$"
   ]
  },
  {
   "cell_type": "code",
   "execution_count": 20,
   "metadata": {
    "execution": {
     "iopub.execute_input": "2023-05-10T15:34:46.389056Z",
     "iopub.status.busy": "2023-05-10T15:34:46.388220Z",
     "iopub.status.idle": "2023-05-10T15:34:46.399517Z",
     "shell.execute_reply": "2023-05-10T15:34:46.398756Z",
     "shell.execute_reply.started": "2023-05-10T15:34:46.389021Z"
    }
   },
   "outputs": [],
   "source": [
    "def Precision(y_true, y_pred, k):\n",
    "    if k > y_true.shape[0]:\n",
    "        k = y_true.shape[0]\n",
    "    y_true = y_true[:k]\n",
    "    y_pred = y_pred[:k]\n",
    "    y_true = (y_true > 0).astype('int')\n",
    "    y_pred = (y_true > 0).astype('int')\n",
    "    \n",
    "    recall = np.sum(y_true * y_pred) * 1.0 / np.sum(y_pred)\n",
    "\n",
    "\n",
    "def Recall(y_true, y_pred, k):\n",
    "    if k > y_true.shape[0]:\n",
    "        k = y_true.shape[0]\n",
    "    y_true = y_true[:k]\n",
    "    y_pred = y_pred[:k]\n",
    "    y_true = (y_true > 0).astype('int')\n",
    "    y_pred = (y_true > 0).astype('int')\n",
    "    \n",
    "    recall = np.sum(y_true * y_pred) * 1.0 / np.sum(y_true)\n",
    "\n",
    "    \n",
    "def MAP(y_true, y_pred, k):\n",
    "    \"\"\"Mean Average Precision - calculates average precision over all user predictions\n",
    "    \n",
    "    y_true - true matrix of user ratings\n",
    "    y_pred - predicted matrix of user ratings\n",
    "    \n",
    "    \"\"\"\n",
    "    psum = 0.\n",
    "    n = len(y_pred.shape[0])\n",
    "    for i in range(n):\n",
    "        psum += Precision(y_true[i], y_pred[i], k)\n",
    "    return psum / n\n",
    "\n",
    "\n",
    "def MAR(y_true, y_pred, k):\n",
    "    rsum = 0.\n",
    "    n = len(y_pred.shape[0])\n",
    "    for i in range(n):\n",
    "        rsum += Recall(y_true[i], y_pred[i], k)\n",
    "    return rsum / n\n",
    "    \n",
    "\n",
    "def NCDG(y_true, y_pred, k):\n",
    "    \"\"\"\n",
    "    Normalized Discounted Cumulative Gain\n",
    "    \n",
    "    Parameters:\n",
    "    y_true - true scores for all movies for user\n",
    "    y_pred - predicted scores for all movies for user\n",
    "    k - up to what position calculate\n",
    "    \"\"\"\n",
    "    if k > y_true.shape[0]:\n",
    "        k = y_true.shape[0]\n",
    "    idx = np.flip(np.argsort(y_pred)) # order by relevance in predictions\n",
    "    true_idx = np.flip(np.argsort(y_true)) # order by relevance in true labels\n",
    "    dcg = 0.\n",
    "    idcg = 0.\n",
    "    for i in range(1, k + 1):\n",
    "        dcg += y_pred[idx[i]] / np.log(i + 1)\n",
    "        idcg += y_true[true_idx[i]] / np.log(i + 1)\n",
    "    return dcg/idcg\n",
    "            \n",
    "\n",
    "def MNCDG(y_true, y_pred, k):\n",
    "    dcg_sum = 0.\n",
    "    n = len(y_pred.shape[0])\n",
    "    for i in range(n):\n",
    "        dcg_sum += NDCG(y_true[i], y_pred[i], k)\n",
    "    return dcg_sum / n\n"
   ]
  },
  {
   "cell_type": "markdown",
   "metadata": {
    "execution": {
     "iopub.execute_input": "2023-05-10T15:34:58.821110Z",
     "iopub.status.busy": "2023-05-10T15:34:58.820029Z",
     "iopub.status.idle": "2023-05-10T15:34:58.825357Z",
     "shell.execute_reply": "2023-05-10T15:34:58.824566Z",
     "shell.execute_reply.started": "2023-05-10T15:34:58.821075Z"
    }
   },
   "source": [
    "Метрики готовы"
   ]
  },
  {
   "cell_type": "markdown",
   "metadata": {},
   "source": [
    "##  Model"
   ]
  },
  {
   "cell_type": "markdown",
   "metadata": {},
   "source": [
    "## Collabarative only - NCF\n",
    "\n",
    "Одним из первых нейросетевых подходов, попытавшихся делать коллабаративную фильтрацию с помощью нейронных сетей, был Neural Collaborative Filtering. Идея очень простая - заменить скалярное произведение в матричной факторизации на обучающуюся нейлиную операцию. Таргет такой же, как и в обычной матричной факторизации - минимизация MSE предсказываемого рейтинга (в оригинальной статье у них был implicit feedback и бинарная кросс-энтропия, но у нас другая задача)."
   ]
  },
  {
   "cell_type": "code",
   "execution_count": null,
   "metadata": {},
   "outputs": [],
   "source": [
    "import torch.nn.functional as F\n",
    "\n",
    "class NCF(nn.Module):\n",
    "    def __init__(self, num_of_users, num_of_items, hiddim):\n",
    "        self.num_of_users = num_of_users\n",
    "        self.num_of_items = num_of_items\n",
    "        self.hiddim = hiddim\n",
    "        self.user_embeddings = nn.Embedding(num_of_users, hiddim)\n",
    "        self.movie_embeddings = nn.Embedding(num_of_items, hiddim)\n",
    "        \n",
    "        self.ncf = nn.Sequential(\n",
    "            nn.Linear(hiddim*2, hiddim),\n",
    "            nn.ELU(),\n",
    "            nn.Linear(hiddim, hiddim//2),\n",
    "            nn.Dropout(0.2)\n",
    "            nn.ELU(),\n",
    "            nn.Linear(hiddim//2, 1),\n",
    "            nn.Sigmoid() # normalize between 0 and 1\n",
    "        )\n",
    "    \n",
    "    def forward(self, uid, iid):\n",
    "        u_onehot = F.one_hot(uid, self.num_of_users)\n",
    "        i_onehot = F.one_hot(iid, self.num_of_items)\n",
    "        \n",
    "        user_embeds = self.user_embedding(u_onehot)\n",
    "        item_embeds = self.item_embedding(i_onehot)\n",
    "        \n",
    "        outp = self.ncf(torch.cat((user_embeds, item_embeds), dim=1))\n",
    "        return outp * 5 # [0, 1] -> [0, 5]\n",
    "        "
   ]
  },
  {
   "cell_type": "code",
   "execution_count": null,
   "metadata": {},
   "outputs": [],
   "source": [
    "from tqdm import tqdm\n",
    "from statistics import mean\n",
    "\n",
    "def plot_train_hist(loss_hist, metrics_hist):\n",
    "    train_loss_hist, val_loss_hist = list(zip(*loss_hist))\n",
    "    metrics_hist = list([list(m.values()) for m in metrics_hist])\n",
    "    prec_hist, recall_hist, ndcg_hist = list(zip(*metrics_hist))\n",
    "    metrics_labels = list(metrics_hist[0].keys())\n",
    "    \n",
    "    _, axs = plt.subplots(1, 2, figsize=(12, 7))\n",
    "    axs[0].plt(train_loss_hist, label='train_loss')\n",
    "    axs[0].plt(val_loss_hist, label='val_loss')\n",
    "    axs[0].legend()\n",
    "    \n",
    "    axs[1].plt(prec_hist, label=metrics_labels[0])\n",
    "    axs[1].plt(recall_hist, label=metrics_labels[0])\n",
    "    axs[1].plt(prec_hist, label=metrics_labels[0])\n",
    "    axs[1].legend()\n",
    "    \n",
    "    plt.suptitle(\"Результат обучения\")\n",
    "    ptt.show()\n",
    "    \n",
    "\n",
    "@torch.no_grad()\n",
    "def evaluate_model(model, loader):\n",
    "    \"\"\"Isolated evaluation function, used for test set\"\"\"\n",
    "    y_true = [], y_pred = []\n",
    "    for (user_ids, movie_ids), r in loader:\n",
    "            user_ids = user_ids.to(device)\n",
    "            movie_ids = movie_ids.to(device)\n",
    "            r = r.to(device)\n",
    "            with torch.no_grad():\n",
    "                r_pred = model(user_ids, movie_ids)\n",
    "            y_true.append(r.cpu().numpy())\n",
    "            y_pred.append(r_pred.cpu().numpy())\n",
    "    prec = MAP(y_true, y_pred, 10)\n",
    "    recall = MAR(y_true, y_pred, 10)\n",
    "    ndcg = MNCDG(y_true, y_pred, 10)\n",
    "    \n",
    "    print(\"Quality on test\\nMAP@10: {prec:.4f}\\nMAR: {recall:.4f}\\nMNDCG: {ndcg:.4f}\"\n",
    "\n",
    "\n",
    "def train_ncf(model, criterion, optimizer_type, optimizer_kwargs, tr_loader, val_loader, max_epochs=30, tol=5):\n",
    "    optimizer = optimizer_type(model.parameters(), **optimizer_kwargs)\n",
    "    loss_hist = []\n",
    "    best_loss = float('inf')\n",
    "    metrics_hist = []\n",
    "    t = tol\n",
    "    logmes = \"epoch {}# train_loss {}, val_loss {:.4f}, val_precision: {:.4f}, val_recall: {:.4f}, val_ndcg: {:.4f}\"\n",
    "    \n",
    "    for epoch in (pbar := tqdm(range(epoch_num)):\n",
    "        if t == 0:\n",
    "            print(\"Early stop, reached tolerance lebel!\\n\\n\"\n",
    "            break    \n",
    "        # train epoch\n",
    "        model.train()\n",
    "        tr_losses = []\n",
    "        for (user_ids, movie_ids), r in tr_loader:\n",
    "            optimizer.zero_grad()\n",
    "            \n",
    "            user_ids = user_ids.to(device)\n",
    "            movie_ids = movie_ids.to(device)\n",
    "            r = r.to(device)\n",
    "            \n",
    "            r_pred = model(user_ids, movie_ids)\n",
    "            loss = criterion(r_pred, r)\n",
    "            tr_losses.append(loss.item())\n",
    "            \n",
    "            loss.backward()\n",
    "            optimizer.step()\n",
    "        \n",
    "        tr_loss = mean(tr_losses)\n",
    "        if tr_loss < best_loss:\n",
    "            best_loss = tr_loss\n",
    "            t = tol\n",
    "        else:\n",
    "            t -= 1\n",
    "                     \n",
    "        # eval epoch\n",
    "        model.eval()\n",
    "        val_losses = []\n",
    "        val_metrics = {}\n",
    "        y_true = [], y_pred = []\n",
    "        for (user_ids, movie_ids), r in tr_loader:\n",
    "            \n",
    "            user_ids = user_ids.to(device)\n",
    "            movie_ids = movie_ids.to(device)\n",
    "            r = r.to(device)\n",
    "            with torch.no_grad():\n",
    "                r_pred = model(user_ids, movie_ids)\n",
    "                loss = criterion(r_pred, r)\n",
    "            val_losses.append(loss.item())\n",
    "            y_true.append(r.cpu().numpy())\n",
    "            y_pred.append(r_pred.cpu().numpy())\n",
    "        \n",
    "        val_loss = mean(val_losses)\n",
    "        val_metrics['MAP@10'] = MAP(y_true, y_pred, 10)\n",
    "        val_metrics['MAR@10'] = MAR(y_true, y_pred, 10)\n",
    "        val_metrics['MNDCG@10'] = MNCDG(y_true, y_pred, 10)    \n",
    "        \n",
    "        loss_hist.append((tr_loss, val_loss))\n",
    "        metrics_hist.append(val_metrics)\n",
    "        \n",
    "        log = log_message.format(e, loss_hist[-1][0], loss_hist[-1][1], *list(val_metrics.values()))\n",
    "        pbar.set_description(log)\n",
    "        \n",
    "    \n",
    "    del optimizer\n",
    "    torch.cuda.empty_cache()\n",
    "    gc.collect()\n",
    "    return loss_hist, metrics_hist"
   ]
  },
  {
   "cell_type": "code",
   "execution_count": null,
   "metadata": {},
   "outputs": [],
   "source": [
    "# test output and correctness"
   ]
  },
  {
   "cell_type": "markdown",
   "metadata": {},
   "source": [
    "## Training and evaluation"
   ]
  },
  {
   "cell_type": "markdown",
   "metadata": {},
   "source": [
    "### NCF"
   ]
  },
  {
   "cell_type": "code",
   "execution_count": null,
   "metadata": {},
   "outputs": [],
   "source": [
    "model = NCF(\n",
    "    \n",
    ")\n",
    "\n",
    "criterion = nn.MSE()\n",
    "\n",
    "optimizer_type = torch.optim.Adam\n",
    "optimizer_kwargs = {\n",
    "    'lr': 3e-4\n",
    "}"
   ]
  },
  {
   "cell_type": "code",
   "execution_count": null,
   "metadata": {},
   "outputs": [],
   "source": [
    "hist = train_ncf(\n",
    "    model, \n",
    "    criterion, \n",
    "    optimizer_type, \n",
    "    optimizer_kwargs, \n",
    "    tr_loader, \n",
    "    val_loader, \n",
    "    max_epochs=30, \n",
    "    tol=5\n",
    ")"
   ]
  },
  {
   "cell_type": "code",
   "execution_count": null,
   "metadata": {},
   "outputs": [],
   "source": [
    "plot_train_hist(*hist)"
   ]
  },
  {
   "cell_type": "code",
   "execution_count": null,
   "metadata": {},
   "outputs": [],
   "source": [
    "evaluate_model(model, test_loader)"
   ]
  },
  {
   "cell_type": "markdown",
   "metadata": {},
   "source": [
    "## Анализ результатов"
   ]
  },
  {
   "cell_type": "markdown",
   "metadata": {},
   "source": []
  }
 ],
 "metadata": {
  "kernelspec": {
   "display_name": "Python 3 (ipykernel)",
   "language": "python",
   "name": "python3"
  },
  "language_info": {
   "codemirror_mode": {
    "name": "ipython",
    "version": 3
   },
   "file_extension": ".py",
   "mimetype": "text/x-python",
   "name": "python",
   "nbconvert_exporter": "python",
   "pygments_lexer": "ipython3",
   "version": "3.11.3"
  }
 },
 "nbformat": 4,
 "nbformat_minor": 4
}
